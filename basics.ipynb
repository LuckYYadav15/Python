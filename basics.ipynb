{
  "nbformat": 4,
  "nbformat_minor": 0,
  "metadata": {
    "colab": {
      "name": "Untitled17.ipynb",
      "provenance": []
    },
    "kernelspec": {
      "name": "python3",
      "display_name": "Python 3"
    },
    "language_info": {
      "name": "python"
    }
  },
  "cells": [
    {
      "cell_type": "code",
      "execution_count": 1,
      "metadata": {
        "colab": {
          "base_uri": "https://localhost:8080/"
        },
        "id": "Ty4FajqgTvXN",
        "outputId": "10bd5573-7d42-474c-987c-f683b8d2e84e"
      },
      "outputs": [
        {
          "output_type": "stream",
          "name": "stdout",
          "text": [
            "False\n",
            "45\n"
          ]
        }
      ],
      "source": [
        "x = True \n",
        "x = False \n",
        "y = False \n",
        "print(y)\n",
        "\n",
        "x=9\n",
        "y = x*5\n",
        "print(y)"
      ]
    },
    {
      "cell_type": "code",
      "source": [
        "x = y = [[7, 8, 9], 8, 9]\n",
        "#x[0] = 13\n",
        "print(y)\n",
        "\n",
        "x = [1, 2, [3, 4, 5], 6, 7] # this is nested list print x[2]\n",
        "print (x[2][1])\n",
        "\n",
        "z = [1, 2, [1, 2, [1, 2, 3]], 4, 5, 6]\n",
        "print (z[2][2][1])"
      ],
      "metadata": {
        "colab": {
          "base_uri": "https://localhost:8080/"
        },
        "id": "1sVMa4LYT_pB",
        "outputId": "d513e722-3b18-47e6-a33b-d5c96c9f3e07"
      },
      "execution_count": 10,
      "outputs": [
        {
          "output_type": "stream",
          "name": "stdout",
          "text": [
            "[[7, 8, 9], 8, 9]\n",
            "4\n",
            "2\n"
          ]
        }
      ]
    },
    {
      "cell_type": "code",
      "source": [
        "b = ['a', 1, 'python', (1, 2)] \n",
        "b[2] = 5 # allowed\n",
        "print(b)"
      ],
      "metadata": {
        "colab": {
          "base_uri": "https://localhost:8080/"
        },
        "id": "o03qUQNqUb5n",
        "outputId": "1abb668b-e3c0-43da-d4f7-344a1385a7a2"
      },
      "execution_count": 11,
      "outputs": [
        {
          "output_type": "stream",
          "name": "stdout",
          "text": [
            "['a', 1, 5, (1, 2)]\n"
          ]
        }
      ]
    },
    {
      "cell_type": "code",
      "source": [
        "empty_list = []      #  list can be empty\n",
        "mixed_list = [1, 'abc', True, 2.34, None]   # heterogenous list \n",
        "nested_list = [['a', 'b', 'c'], [1, 2, 3]]     # nested list \n",
        "\n",
        "# Lists in Python are zero-indexed meaning that the first element in the list is at index 0\n",
        "\n",
        "print(empty_list)\n",
        "print(nested_list[-1])\n",
        "mixed_list.append(\"stART\")\n",
        "mixed_list.insert(3, \"Test\")\n",
        "print(mixed_list)\n",
        "mixed_list.count(1)\n",
        "nested_list.reverse()\n",
        "\n",
        "print(mixed_list)\n",
        "mixed_list[::-1]  # slicing \n",
        "print(mixed_list)\n",
        "nested_list.pop()"
      ],
      "metadata": {
        "colab": {
          "base_uri": "https://localhost:8080/"
        },
        "id": "EypUsvC3WCjT",
        "outputId": "5dc40727-869f-4ce6-cbfb-f21caf7f091e"
      },
      "execution_count": 13,
      "outputs": [
        {
          "output_type": "stream",
          "name": "stdout",
          "text": [
            "[]\n",
            "[1, 2, 3]\n",
            "[1, 'abc', True, 'Test', 2.34, None, 'stART']\n",
            "[1, 'abc', True, 'Test', 2.34, None, 'stART']\n",
            "[1, 'abc', True, 'Test', 2.34, None, 'stART']\n"
          ]
        },
        {
          "output_type": "execute_result",
          "data": {
            "text/plain": [
              "['a', 'b', 'c']"
            ]
          },
          "metadata": {},
          "execution_count": 13
        }
      ]
    },
    {
      "cell_type": "code",
      "source": [
        "stk = [3, 4, 5]\n",
        "stk.append(6)\n",
        "stk.append(7)\n",
        "stk.pop()\n",
        "for element in stk : \n",
        "   print (element)"
      ],
      "metadata": {
        "colab": {
          "base_uri": "https://localhost:8080/"
        },
        "id": "DtyVzEZtWUmu",
        "outputId": "f4d35728-b111-4bed-c5c5-47683b472e01"
      },
      "execution_count": 15,
      "outputs": [
        {
          "output_type": "stream",
          "name": "stdout",
          "text": [
            "3\n",
            "4\n",
            "5\n",
            "6\n"
          ]
        }
      ]
    },
    {
      "cell_type": "code",
      "source": [
        "from collections import deque\n",
        "\n",
        "queue = deque([\"India\", \"Japan\", \"America\"])\n",
        "queue.append(\"Singapore\")           # Singapore arrives\n",
        "queue.append(\"UK\")          # UK arrives\n",
        "queue.popleft()                 # The first to arrive now leaves\n",
        "queue.popleft()                 # The second to arrive now leaves                  \n",
        "print(queue)           # Remaining queue in order of arrival\n",
        "deque(['India', 'Singapore', 'Japan'])\n",
        "print(deque)"
      ],
      "metadata": {
        "colab": {
          "base_uri": "https://localhost:8080/"
        },
        "id": "BDqHSfyrW0U2",
        "outputId": "1ecfffd7-647a-4702-86a3-b953d27941a5"
      },
      "execution_count": 18,
      "outputs": [
        {
          "output_type": "stream",
          "name": "stdout",
          "text": [
            "deque(['America', 'Singapore', 'UK'])\n",
            "['India', 'Singapore', 'Japan']\n"
          ]
        }
      ]
    },
    {
      "cell_type": "code",
      "source": [
        "t = 12345, 54321, 'welcome'           # tuple packing \n",
        "print(t[0])\n",
        "print(t)\n",
        "u = t, (1, 2, 3, 4, 5)      # Tuples may be nested:\n",
        "print(u)\n",
        "\n",
        "x, y, z = t                 # Sequence unpacking \n",
        "print(x)"
      ],
      "metadata": {
        "colab": {
          "base_uri": "https://localhost:8080/"
        },
        "id": "GSYadDieX7uj",
        "outputId": "46c7d9b4-d6b7-46be-e41e-b07da48448e6"
      },
      "execution_count": 24,
      "outputs": [
        {
          "output_type": "stream",
          "name": "stdout",
          "text": [
            "12345\n",
            "(12345, 54321, 'welcome')\n",
            "((12345, 54321, 'welcome'), (1, 2, 3, 4, 5))\n",
            "12345\n"
          ]
        }
      ]
    },
    {
      "cell_type": "code",
      "source": [
        "dict([('Krishna', 4139), ('kaveri', 4127), ('Ganga', 4498)])"
      ],
      "metadata": {
        "colab": {
          "base_uri": "https://localhost:8080/"
        },
        "id": "8km4lIJoYgah",
        "outputId": "9e7b82c3-a0bc-48c6-fc75-514c87223083"
      },
      "execution_count": 28,
      "outputs": [
        {
          "output_type": "execute_result",
          "data": {
            "text/plain": [
              "{'Krishna': 4139, 'kaveri': 4127, 'langa': 4098}"
            ]
          },
          "metadata": {},
          "execution_count": 28
        }
      ]
    },
    {
      "cell_type": "code",
      "source": [
        "name = ['Krishna', 'Kaveri', 'Ganga', 'Ram']\n",
        "id = [4139, 4127, 4498, 4223]\n",
        "\n",
        "for n, i in zip(name, id):\n",
        "  print('{0} : {1}'.format(n,i))"
      ],
      "metadata": {
        "colab": {
          "base_uri": "https://localhost:8080/"
        },
        "id": "pqba6cljY69S",
        "outputId": "fb33c5b6-2233-41be-af7b-7901542960b6"
      },
      "execution_count": 33,
      "outputs": [
        {
          "output_type": "stream",
          "name": "stdout",
          "text": [
            "What is your name?  It is Baby.\n",
            "What is your quest?  It is run around the court.\n",
            "What is your favorite color?  It is blue.\n",
            "Krishna : 4139\n",
            "Kaveri : 4127\n",
            "Ganga : 4498\n",
            "Ram : 4223\n"
          ]
        }
      ]
    },
    {
      "cell_type": "code",
      "source": [
        "{x: x**2 for x in (2, 4, 6)}  "
      ],
      "metadata": {
        "colab": {
          "base_uri": "https://localhost:8080/"
        },
        "id": "j83GWOb6Yriz",
        "outputId": "2e70e4dd-c2dc-44bc-85fc-69b33d15bf08"
      },
      "execution_count": 26,
      "outputs": [
        {
          "output_type": "execute_result",
          "data": {
            "text/plain": [
              "{2: 4, 4: 16, 6: 36}"
            ]
          },
          "metadata": {},
          "execution_count": 26
        }
      ]
    },
    {
      "cell_type": "code",
      "source": [
        ""
      ],
      "metadata": {
        "id": "bS-BDtclZ_ey"
      },
      "execution_count": null,
      "outputs": []
    }
  ]
}