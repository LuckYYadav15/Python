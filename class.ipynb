{
  "nbformat": 4,
  "nbformat_minor": 0,
  "metadata": {
    "colab": {
      "name": "Untitled4.ipynb",
      "provenance": []
    },
    "kernelspec": {
      "name": "python3",
      "display_name": "Python 3"
    },
    "language_info": {
      "name": "python"
    }
  },
  "cells": [
    {
      "cell_type": "code",
      "metadata": {
        "id": "yru1pyWMAk6H"
      },
      "source": [
        "def main():\n",
        "  print(\"This is a main function\")"
      ],
      "execution_count": null,
      "outputs": []
    },
    {
      "cell_type": "code",
      "metadata": {
        "colab": {
          "base_uri": "https://localhost:8080/"
        },
        "id": "IJYo5Mc3Aq2j",
        "outputId": "bdda9175-c466-42a5-e258-59142b72bcf8"
      },
      "source": [
        "class Dog:\n",
        "  \"\"\"Requires:\n",
        "  legs-legs so that the dog can walk.\n",
        "  color - a color of the fur.\n",
        "  \"\"\"\n",
        "  def __init__(self, legs, color):\n",
        "    self.legs = legs\n",
        "    self.color = color\n",
        "  def shout(self):\n",
        "    shout = \"shu \" * 3\n",
        "    return shout\n",
        "  def bark(self):\n",
        "    bark = \"bark \" * 2\n",
        "    return bark\n",
        "\n",
        "if __name__ == \"__main__\":\n",
        "  dog = Dog(4, \"brown\")\n",
        "  bark = dog.bark()\n",
        "  print(bark)\n",
        "  print(dog.shout())"
      ],
      "execution_count": null,
      "outputs": [
        {
          "output_type": "stream",
          "name": "stdout",
          "text": [
            "bark bark \n",
            "shu shu shu \n"
          ]
        }
      ]
    },
    {
      "cell_type": "code",
      "metadata": {
        "id": "-ikKIgrIEu-0"
      },
      "source": [
        "class Employee:\n",
        "  def set_salary(self, new_salary):\n",
        "    self.salary =  new_salary\n",
        "emp = Employee()\n",
        "emp.set_salary(5000)"
      ],
      "execution_count": null,
      "outputs": []
    },
    {
      "cell_type": "code",
      "metadata": {
        "colab": {
          "base_uri": "https://localhost:8080/"
        },
        "id": "y4XYIbEnIh8p",
        "outputId": "6aa7daa5-c4da-4c28-8a47-9eb4f00b0389"
      },
      "source": [
        "class Duck:\n",
        "  animal = True\n",
        "print(Duck().animal)"
      ],
      "execution_count": null,
      "outputs": [
        {
          "output_type": "stream",
          "name": "stdout",
          "text": [
            "True\n"
          ]
        }
      ]
    }
  ]
}