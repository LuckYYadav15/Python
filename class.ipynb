{
  "cells": [
    {
      "cell_type": "code",
      "execution_count": null,
      "metadata": {
        "id": "yru1pyWMAk6H"
      },
      "outputs": [],
      "source": [
        "def main():\n",
        "  print(\"This is a main function\")"
      ]
    },
    {
      "cell_type": "code",
      "execution_count": null,
      "metadata": {
        "colab": {
          "base_uri": "https://localhost:8080/"
        },
        "id": "IJYo5Mc3Aq2j",
        "outputId": "bdda9175-c466-42a5-e258-59142b72bcf8"
      },
      "outputs": [
        {
          "name": "stdout",
          "output_type": "stream",
          "text": [
            "bark bark \n",
            "shu shu shu \n"
          ]
        }
      ],
      "source": [
        "class Dog:\n",
        "  \"\"\"Requires:\n",
        "  legs-legs so that the dog can walk.\n",
        "  color - a color of the fur.\n",
        "  \"\"\"\n",
        "  def __init__(self, legs, color):\n",
        "    self.legs = legs\n",
        "    self.color = color\n",
        "  def shout(self):\n",
        "    shout = \"shu \" * 3\n",
        "    return shout\n",
        "  def bark(self):\n",
        "    bark = \"bark \" * 2\n",
        "    return bark\n",
        "\n",
        "if __name__ == \"__main__\":\n",
        "  dog = Dog(4, \"brown\")\n",
        "  bark = dog.bark()\n",
        "  print(bark)\n",
        "  print(dog.shout())"
      ]
    },
    {
      "cell_type": "code",
      "execution_count": null,
      "metadata": {
        "id": "-ikKIgrIEu-0"
      },
      "outputs": [],
      "source": [
        "class Employee:\n",
        "  def set_salary(self, new_salary):\n",
        "    self.salary =  new_salary\n",
        "emp = Employee()\n",
        "emp.set_salary(5000)"
      ]
    },
    {
      "cell_type": "code",
      "execution_count": null,
      "metadata": {
        "colab": {
          "base_uri": "https://localhost:8080/"
        },
        "id": "y4XYIbEnIh8p",
        "outputId": "6aa7daa5-c4da-4c28-8a47-9eb4f00b0389"
      },
      "outputs": [
        {
          "name": "stdout",
          "output_type": "stream",
          "text": [
            "True\n"
          ]
        }
      ],
      "source": [
        "class Duck:\n",
        "  animal = True\n",
        "print(Duck().animal)"
      ]
    },
    {
      "cell_type": "code",
      "execution_count": null,
      "metadata": {},
      "outputs": [],
      "source": [
        "#Question-1\n",
        "class circle:\n",
        "  def area(self, r):\n",
        "    a = 3.14*r*r\n",
        "    print(f\"Area = {a}\")\n",
        "  def preimeter(self, r):\n",
        "    p = 2*3.14*r\n",
        "    print(f\"Perimeter = {p}\")\n",
        "C1 = circle()\n",
        "r = int(input())\n",
        "C1.area(r)\n",
        "C1.preimeter(r)"
      ]
    },
    {
      "cell_type": "code",
      "execution_count": null,
      "metadata": {},
      "outputs": [],
      "source": [
        "#Question-2\n",
        "class data:\n",
        "  def __init__(self, name, id, brnch, salary):\n",
        "    self.name = name\n",
        "    self.id = id\n",
        "    self.branch = branch\n",
        "    self.salary = salary\n",
        "  def details(self):\n",
        "   print(f\"\"\"     Name: {self.name}\n",
        "          Emp ID: {self.id}\n",
        "          Branch: {self.branch}\n",
        "          Salary: {self.salary}\"\"\")\n",
        "print(\"Enter data of 5 Teachers: \")\n",
        "\n",
        "array = []\n",
        "for i in range(0,5):\n",
        "  name = input(\"Name: \")\n",
        "  id = int(input(\"ID: \"))\n",
        "  branch = input(\"Branch: \")\n",
        "  salary = int(input(\"Salary: \"))\n",
        "  print('\\n')\n",
        "  t = data(name, id, branch, salary)\n",
        "  array.append(t)\n",
        "\n",
        "for i in array:\n",
        "  i.details()"
      ]
    },
    {
      "cell_type": "code",
      "execution_count": null,
      "metadata": {},
      "outputs": [],
      "source": [
        "#Question 3\n",
        "class Account:\n",
        "  def details(self, acno, acho, amount):\n",
        "    self.acountno = acno\n",
        "    self.acountholdername = acho\n",
        "    self.amount = amount\n",
        "  def Deposit(self, acno):\n",
        "    if self.acountno == acno:\n",
        "      print(\"\"\"Login sucessfull\n",
        "      Enter amount to deposit: \"\"\")\n",
        "      amt = int(input())\n",
        "      print(f\"{amt} deposited sucessfully.\")\n",
        "    else:\n",
        "      print(\"You entered wrong details.\")\n",
        "  def Withdraw(self, acno, acho):\n",
        "    if self.acountno == acno and self.acountholdername == acho:\n",
        "      print(\"\"\"Login Sucessfull\n",
        "      Enter Amount to withdraw: \"\"\")\n",
        "      amt = int(input())\n",
        "      if amt > self.amount:\n",
        "        print(\"Out of balance\")\n",
        "      else:\n",
        "        self.amount = self.amount - amt\n",
        "        print(f\"Withdrawn {amt} rupees\")\n",
        "    else:\n",
        "      print(\"You enterred wrong details.\")\n",
        "  def CheckBal(self, acno, acho ):\n",
        "    if self.acountno == acno and self.acountholdername == acho:\n",
        "      print(f\"Login sucessful, your account balance is {self.amount}\")  \n",
        "    else:\n",
        "      print(\"You entered wrong details.\")\n",
        "  def Displayac(self, anco):\n",
        "      print(f\"\"\" Your account details are:\n",
        "        Account Number: {self.acountno}\n",
        "        Account Holder name: {self.acountholdername}\n",
        "        Amount = {self.amount}\"\"\")\n",
        "\n",
        "P1 = Account()\n",
        "P1.details(111, \"Aman\", 774)\n",
        "P2 = Account()\n",
        "P2.details(112, \"Sahil\", 1024)\n",
        "P3 = Account()\n",
        "P3.details(113, \"Rahul\", 10000)\n",
        "P4 = Account()\n",
        "P4.details(114, \"Ted\", 20)\n",
        "P1.Deposit(111)\n",
        "P1.Displayac(111)\n",
        "P2.Withdraw(112, \"Sahil\")\n",
        "P2.Displayac(112)\n",
        "P3.CheckBal(113, \"Rahul\")\n",
        "P4.Displayac(114)"
      ]
    },
    {
      "cell_type": "code",
      "execution_count": null,
      "metadata": {},
      "outputs": [],
      "source": [
        "#Question 4\n",
        "class Student:\n",
        "  def details(self, name , usn, mark_eng, mark_maths , mark_science):\n",
        "    self.name = name\n",
        "    self.usn = usn\n",
        "    self.mark_eng = mark_eng\n",
        "    self.mark_maths = mark_maths\n",
        "    self.mark_science = mark_science\n",
        "    self.nlist = [\"arun\", \"ram\"]\n",
        "    self.nlist.append(name)\n",
        "    self.Emarks = [87, 77]\n",
        "    self.Emarks.append(mark_eng)\n",
        "    self.Mmarks = [54, 53]\n",
        "    self.Mmarks.append(mark_maths)\n",
        "    self.Smarks = [66, 69]\n",
        "    self.Smarks.append(mark_science)\n",
        "  def display(self, name, nlist, usn, Emarks, Mmarks, Smarks):\n",
        "    for i in range(0,3):\n",
        "      if name == nlist[i]:\n",
        "        print(f\"Name = {nlist[i]},  USN = {usn} ,  Marks in English = {Emarks[i]} ,  Marks in Maths = {Mmarks[i]} ,  Marks in Science = {Smarks[i]}\")\n",
        "        exit\n",
        "      \n",
        "a1 = Student()\n",
        "a1.details(\"rahul\", 123, 76, 56, 45)\n",
        "a1.display(\"rahul\", a1.nlist, a1.usn, a1.Emarks, a1.Mmarks, a1.Smarks)"
      ]
    },
    {
      "cell_type": "code",
      "execution_count": null,
      "metadata": {},
      "outputs": [],
      "source": [
        "#Question-5\n",
        "class Patient:\n",
        "  def __init__(self):\n",
        "    self.name = input(\"Name: \")\n",
        "    self.admit_date = input(\"Admit Date(dd/mm/yy): \")\n",
        "    i = int(input(\"Enter no of symptoms: \"))\n",
        "    self.symptom = []\n",
        "    self.gnum = 0\n",
        "    self.onum = 0\n",
        "    for j in range(1,i+1):\n",
        "      temp = input(f\"symptom {j}: \")\n",
        "      self.symptom.append(temp)\n",
        "    self.oxy = int(input(\"oxygen level: \"))\n",
        "    self.dis_date = input(\"Discharge Date(dd/mm/yy): \")\n",
        "  def ward(self):\n",
        "    if self.oxy <90:\n",
        "      print(\"Shift patient to ICU and keep on Oxygen\")\n",
        "      self.onum = self.onum + 1\n",
        "    else:\n",
        "      print(\"Patient's health is normal shift him to General Ward\")\n",
        "      self.gnum = self.gnun + 1\n",
        "  def patient_num(self):\n",
        "    print(f\"Patient in General ward are : {self.gnum}.\")\n",
        "    print(f\"Total Patients admitted are: {self.onum+self.gnum}.\")\n",
        "  def display(self):\n",
        "    print(f\"Patient Name: {self.name}  Patient's date of admit: {self.admit_date}   Patient's symptoms: {self.symptom}    Patient's Oxygen Level: {self.oxy}   Patient's date of discharge: {self.dis_date}\")\n",
        "\n",
        "\n",
        "p1= Patient()\n",
        "p1.display()\n",
        "p1.ward()\n",
        "p1.patient_num()"
      ]
    },
    {
      "cell_type": "code",
      "execution_count": null,
      "metadata": {},
      "outputs": [],
      "source": [
        "#Question-6\n",
        "class Time:\n",
        "  def __init__(self):\n",
        "    self.hours = int(input(\"Enter hours: \"))\n",
        "    self.minutes = int(input(\"Minutes: \"))\n",
        "    self. seconds = int(input(\"Seconds:  \"))\n",
        "\n",
        "  def display_time(self):\n",
        "    if self.hours > 9:\n",
        "      print(\"{0}:\".format(self.hours), end='')\n",
        "    else:\n",
        "      print(\"0{0}:\".format(self.hours), end='')\n",
        "    if self.minutes > 9:\n",
        "      print(\"{0}:\".format(self.minutes), end='')\n",
        "    else:\n",
        "      print(\"0{0}:\".format(self.minutes), end='')\n",
        "    if self.seconds > 9:\n",
        "      print(\"{0}\".format(self.seconds), end='')\n",
        "    else:\n",
        "      print(\"0{0}\".format(self.seconds), end='')\n",
        "\n",
        "t = Time()\n",
        "t.display_time()"
      ]
    },
    {
      "cell_type": "code",
      "execution_count": null,
      "metadata": {},
      "outputs": [],
      "source": [
        "#Question-7\n",
        "class student:\n",
        "\n",
        "  def __init__(self, name, age, roll):\n",
        "    self.name = name\n",
        "    self.age = age\n",
        "    self.roll = roll  \n",
        "\n",
        "student1 = student(\"rahul\", 21, 33)\n",
        "student2 = student(\"rohit\", 22, 74) \n",
        "#function\n",
        "def comp():\n",
        "  if student1.age == student2.age:\n",
        "    print(\"the ages of two students are equal\")\n",
        "  else:\n",
        "    print(\"the ages are not equal\")\n",
        " \n",
        "comp()"
      ]
    },
    {
      "cell_type": "code",
      "execution_count": null,
      "metadata": {},
      "outputs": [],
      "source": [
        "#Question-8\n",
        "class Student:\n",
        "  institute = \"IIIT Dharwad\"\n",
        "  semester = 3\n",
        "  def __init__(self):\n",
        "    self.name = input(\"Name: \")\n",
        "    self.USN = int(input(\"USN: \"))\n",
        "\n",
        "  def display_instance(self):\n",
        "    print(f\"Name: {self.name}   USN: {self.USN} \")\n",
        "  \n",
        "  def display_class(self):\n",
        "    print(f\"Institute name: {self.institute}   Semester: {self.semester}\")\n",
        "\n",
        "def explanation():\n",
        "  print(f\"It has 2 class variables - Institute and Semester, 2 instance variables - name and USN, 1 class method - printClass and 1 instance method - printInstance. Instance methods use the instance variables, whereas class methods use the class variables.\")\n",
        "\n",
        "std1 = Student()\n",
        "std1.display_class()\n",
        "std1.display_instance()\n",
        "explanation()"
      ]
    },
    {
      "cell_type": "code",
      "execution_count": null,
      "metadata": {},
      "outputs": [],
      "source": [
        "#Question-9\n",
        "class Student:\n",
        "\n",
        "  def __init__(self):\n",
        "    self.name = input(\"Enter name: \")\n",
        "    self.roll_no = input(\"Roll No.: \")\n",
        "    self.sem = (\"Semester: \")\n",
        "    self.lappi1 = self.laptop1(\"intel\", \"32 gb\", \"512 gb\")\n",
        "    self.lappi2 = self.laptop2(\"ryzen\", \"16 gb\", \"2 Tb\")\n",
        "\n",
        "  def display(self):\n",
        "    print(\"name of student is: \", self.name)\n",
        "    print(\"roll no. of student is: \", self.roll_no)\n",
        "    print(\"semester of student is: \", self.sem)\n",
        "\n",
        "  class laptop1:\n",
        "\n",
        "    def __init__(self, name, ram, hard_disc):\n",
        "      self.cpu = name\n",
        "      self.ram = ram\n",
        "      self.hard_disk = hard_disc\n",
        "\n",
        "    def display_inner1(self):\n",
        "      print(\"chip used in cpu is: \", self.cpu)\n",
        "      print(\"ram capacity is: \", self.ram)\n",
        "      print(\"hard_disk capacity is: \", self.hard_disk)\n",
        " \n",
        "  class laptop2: \n",
        "\n",
        "    def __init__(self, name, ram, hard_disc):\n",
        "      self.cpu = name\n",
        "      self.ram = ram\n",
        "      self.hard_disk = hard_disc\n",
        "    \n",
        "    def display_inner2(self):\n",
        "      print(f\"chip used in cpu is:  {self.cpu}\")\n",
        "      print(f\"ram capacity is: {self.ram}\")\n",
        "      print(f\"hard_disk capacity is:  {self.hard_disk}\")      \n",
        "\n",
        "student1 = Student()\n",
        "student1.display() \n",
        "\n",
        "print(\"\\n\")\n",
        "\n",
        "l1 = student1.lappi1\n",
        "l1.display_inner1()\n",
        "\n",
        "print(\"\\n\")\n",
        "\n",
        "l2 = student1.lappi2\n",
        "l2.display_inner2()"
      ]
    }
  ],
  "metadata": {
    "colab": {
      "name": "Untitled4.ipynb",
      "provenance": []
    },
    "kernelspec": {
      "display_name": "Python 3",
      "name": "python3"
    },
    "language_info": {
      "name": "python",
      "version": "3.9.7"
    }
  },
  "nbformat": 4,
  "nbformat_minor": 0
}
