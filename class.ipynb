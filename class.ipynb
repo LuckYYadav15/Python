{
  "cells": [
    {
      "cell_type": "code",
      "execution_count": null,
      "metadata": {
        "id": "yru1pyWMAk6H"
      },
      "outputs": [],
      "source": [
        "def main():\n",
        "  print(\"This is a main function\")"
      ]
    },
    {
      "cell_type": "code",
      "execution_count": null,
      "metadata": {
        "colab": {
          "base_uri": "https://localhost:8080/"
        },
        "id": "IJYo5Mc3Aq2j",
        "outputId": "bdda9175-c466-42a5-e258-59142b72bcf8"
      },
      "outputs": [
        {
          "name": "stdout",
          "output_type": "stream",
          "text": [
            "bark bark \n",
            "shu shu shu \n"
          ]
        }
      ],
      "source": [
        "class Dog:\n",
        "  \"\"\"Requires:\n",
        "  legs-legs so that the dog can walk.\n",
        "  color - a color of the fur.\n",
        "  \"\"\"\n",
        "  def __init__(self, legs, color):\n",
        "    self.legs = legs\n",
        "    self.color = color\n",
        "  def shout(self):\n",
        "    shout = \"shu \" * 3\n",
        "    return shout\n",
        "  def bark(self):\n",
        "    bark = \"bark \" * 2\n",
        "    return bark\n",
        "\n",
        "if __name__ == \"__main__\":\n",
        "  dog = Dog(4, \"brown\")\n",
        "  bark = dog.bark()\n",
        "  print(bark)\n",
        "  print(dog.shout())"
      ]
    },
    {
      "cell_type": "code",
      "execution_count": null,
      "metadata": {
        "id": "-ikKIgrIEu-0"
      },
      "outputs": [],
      "source": [
        "class Employee:\n",
        "  def set_salary(self, new_salary):\n",
        "    self.salary =  new_salary\n",
        "emp = Employee()\n",
        "emp.set_salary(5000)"
      ]
    },
    {
      "cell_type": "code",
      "execution_count": null,
      "metadata": {
        "colab": {
          "base_uri": "https://localhost:8080/"
        },
        "id": "y4XYIbEnIh8p",
        "outputId": "6aa7daa5-c4da-4c28-8a47-9eb4f00b0389"
      },
      "outputs": [
        {
          "name": "stdout",
          "output_type": "stream",
          "text": [
            "True\n"
          ]
        }
      ],
      "source": [
        "class Duck:\n",
        "  animal = True\n",
        "print(Duck().animal)"
      ]
    },
    {
      "cell_type": "code",
      "execution_count": null,
      "metadata": {},
      "outputs": [],
      "source": [
        "#Question-1\n",
        "class circle:\n",
        "  def area(self, r):\n",
        "    a = 3.14*r*r\n",
        "    print(f\"Area = {a}\")\n",
        "  def preimeter(self, r):\n",
        "    p = 2*3.14*r\n",
        "    print(f\"Perimeter = {p}\")\n",
        "C1 = circle()\n",
        "r = int(input())\n",
        "C1.area(r)\n",
        "C1.preimeter(r)"
      ]
    },
    {
      "cell_type": "code",
      "execution_count": null,
      "metadata": {},
      "outputs": [],
      "source": [
        "#Question-2\n",
        "class data:\n",
        "  def __init__(self, name, id, brnch, salary):\n",
        "    self.name = name\n",
        "    self.id = id\n",
        "    self.branch = branch\n",
        "    self.salary = salary\n",
        "  def details(self):\n",
        "   print(f\"\"\"     Name: {self.name}\n",
        "          Emp ID: {self.id}\n",
        "          Branch: {self.branch}\n",
        "          Salary: {self.salary}\"\"\")\n",
        "print(\"Enter data of 5 Teachers: \")\n",
        "\n",
        "array = []\n",
        "for i in range(0,5):\n",
        "  name = input(\"Name: \")\n",
        "  id = int(input(\"ID: \"))\n",
        "  branch = input(\"Branch: \")\n",
        "  salary = int(input(\"Salary: \"))\n",
        "  print('\\n')\n",
        "  t = data(name, id, branch, salary)\n",
        "  array.append(t)\n",
        "\n",
        "for i in array:\n",
        "  i.details()"
      ]
    }
  ],
  "metadata": {
    "colab": {
      "name": "Untitled4.ipynb",
      "provenance": []
    },
    "kernelspec": {
      "display_name": "Python 3",
      "name": "python3"
    },
    "language_info": {
      "name": "python",
      "version": "3.9.7"
    }
  },
  "nbformat": 4,
  "nbformat_minor": 0
}
