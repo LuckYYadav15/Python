{
  "nbformat": 4,
  "nbformat_minor": 0,
  "metadata": {
    "colab": {
      "name": "Untitled8.ipynb",
      "provenance": []
    },
    "kernelspec": {
      "name": "python3",
      "display_name": "Python 3"
    },
    "language_info": {
      "name": "python"
    }
  },
  "cells": [
    {
      "cell_type": "code",
      "metadata": {
        "id": "Ml8_QmLx8BoW"
      },
      "source": [
        "#Python - Practice - 17/08/2021"
      ],
      "execution_count": null,
      "outputs": []
    },
    {
      "cell_type": "code",
      "metadata": {
        "colab": {
          "base_uri": "https://localhost:8080/"
        },
        "id": "My85blBf8ojn",
        "outputId": "a258334e-c532-4361-ef5a-f8080561caa1"
      },
      "source": [
        "#Multiline statements\n",
        "sum = 10 + 20 +\\\n",
        "30 + 40 + 50\n",
        "sum1 = (10 + 20 \n",
        "        + 30)\n",
        "l1 =  [\"man\", \n",
        "       \"woman\",\n",
        "       \"child\"]\n",
        "print(sum)\n",
        "print(sum1)\n",
        "print(l1)"
      ],
      "execution_count": null,
      "outputs": [
        {
          "output_type": "stream",
          "name": "stdout",
          "text": [
            "150\n",
            "60\n",
            "['man', 'woman', 'child']\n"
          ]
        }
      ]
    },
    {
      "cell_type": "code",
      "metadata": {
        "colab": {
          "base_uri": "https://localhost:8080/"
        },
        "id": "o2hNh_IU9ZBI",
        "outputId": "ae4db19e-438f-411e-804a-dcf86b0324ac"
      },
      "source": [
        "sum = 0\n",
        "for i in range(0, 10):\n",
        "  if i % 2 == 0:\n",
        "    sum = sum + i\n",
        "  else:\n",
        "    sum = sum - 1\n",
        "\n",
        "print(sum)"
      ],
      "execution_count": null,
      "outputs": [
        {
          "output_type": "stream",
          "name": "stdout",
          "text": [
            "15\n"
          ]
        }
      ]
    },
    {
      "cell_type": "code",
      "metadata": {
        "colab": {
          "base_uri": "https://localhost:8080/"
        },
        "id": "bQG6atvG9xbc",
        "outputId": "3e8461a5-793f-4f38-ee93-fab281663db2"
      },
      "source": [
        "#this is a comment\n",
        "\"\"\"This is multiline comment\"\"\"\n",
        "print(\"Comments are used to make code understandabe and easy for others to read\")"
      ],
      "execution_count": null,
      "outputs": [
        {
          "output_type": "stream",
          "name": "stdout",
          "text": [
            "Comments are used to make code understandabe and easy for others to read\n"
          ]
        }
      ]
    },
    {
      "cell_type": "code",
      "metadata": {
        "colab": {
          "base_uri": "https://localhost:8080/"
        },
        "id": "8jZYb8fH9x8Q",
        "outputId": "e7c02a82-9378-4cc4-e032-363aa1f7eec2"
      },
      "source": [
        "#id is used as identifier and no two variables can have same identifier\n",
        "a = 100\n",
        "b = 50\n",
        "print(f\"identifier of a is {id(a)}\")\n",
        "print(f\"identifier of b is {id(b)}\")"
      ],
      "execution_count": null,
      "outputs": [
        {
          "output_type": "stream",
          "name": "stdout",
          "text": [
            "identifier of a is 93998760547936\n",
            "identifier of b is 93998760546336\n"
          ]
        }
      ]
    },
    {
      "cell_type": "code",
      "metadata": {
        "colab": {
          "base_uri": "https://localhost:8080/"
        },
        "id": "aLqYyOxK_QrO",
        "outputId": "e9deefba-9910-4010-b97b-1d68e7282f87"
      },
      "source": [
        "a= b= c = 90\n",
        "print(a, b, c)\n",
        "\n",
        "a = b = c = d = 1, 2, 3, 4\n",
        "print(a, b, c, d)\n",
        "\n",
        "a, b, c = 4, 5, 6   \n",
        "print(a, b, c)"
      ],
      "execution_count": null,
      "outputs": [
        {
          "output_type": "stream",
          "name": "stdout",
          "text": [
            "90 90 90\n",
            "(1, 2, 3, 4) (1, 2, 3, 4) (1, 2, 3, 4) (1, 2, 3, 4)\n",
            "4 5 6\n"
          ]
        }
      ]
    },
    {
      "cell_type": "code",
      "metadata": {
        "colab": {
          "base_uri": "https://localhost:8080/"
        },
        "id": "gV77jVPT_5F-",
        "outputId": "cda1e83a-b457-459a-863a-4752d188ff98"
      },
      "source": [
        "# Declare a variable and initialize it  \n",
        "x = 200  \n",
        "  \n",
        "# Global variable in function  \n",
        "def mFunction():  \n",
        "    # printing a global variable  \n",
        "    global x  \n",
        "    print(x)  \n",
        "    # modifying a global variable  \n",
        "    x = 'Welcome To OOP'  \n",
        "    print(x)  \n",
        "  \n",
        "mFunction()  \n",
        "print(x)  \n",
        "\n",
        "#del x  \n",
        "global x\n",
        "print(x)"
      ],
      "execution_count": null,
      "outputs": [
        {
          "output_type": "stream",
          "name": "stdout",
          "text": [
            "200\n",
            "Welcome To OOP\n",
            "Welcome To OOP\n",
            "Welcome To OOP\n"
          ]
        }
      ]
    },
    {
      "cell_type": "code",
      "metadata": {
        "colab": {
          "base_uri": "https://localhost:8080/"
        },
        "id": "jU0yZWOWFxv2",
        "outputId": "f5e63863-c033-4662-cc8a-7111557c4e97"
      },
      "source": [
        "b = 2      # refer to same id\n",
        "\n",
        "print('id(2) =', id(2))\n",
        "\n",
        "print('id(b) =', id(b))\n",
        "\n",
        "\n",
        "b = b+1\n",
        "\n",
        "print('id(b) =', id(b))\n",
        "\n",
        "print('id(3) =', id(3))    # refer to different id"
      ],
      "execution_count": null,
      "outputs": [
        {
          "output_type": "stream",
          "name": "stdout",
          "text": [
            "id(2) = 93998760544800\n",
            "id(b) = 93998760544800\n",
            "id(b) = 93998760544832\n",
            "id(3) = 93998760544832\n"
          ]
        }
      ]
    },
    {
      "cell_type": "code",
      "metadata": {
        "colab": {
          "base_uri": "https://localhost:8080/"
        },
        "id": "tX0PWPKjPoBo",
        "outputId": "8666ffbb-8cad-4639-8477-0cc7dafac67e"
      },
      "source": [
        "def outer():\n",
        "    x = 40 #non local variable\n",
        "    print(x)\n",
        "    def inner():\n",
        "        y = 35 # local variable\n",
        "        print(y)\n",
        "    outer.inner = inner\n",
        "outer()\n",
        "outer.inner()\n",
        "z = 20          # Global Variable\n",
        "print(z)"
      ],
      "execution_count": null,
      "outputs": [
        {
          "output_type": "stream",
          "name": "stdout",
          "text": [
            "40\n",
            "35\n",
            "20\n"
          ]
        }
      ]
    },
    {
      "cell_type": "code",
      "metadata": {
        "colab": {
          "base_uri": "https://localhost:8080/"
        },
        "id": "34eeCppVTWmC",
        "outputId": "4dfb6864-ce9e-4e5d-e188-568aacffee29"
      },
      "source": [
        "def outer_function():\n",
        "    a = 20\n",
        "\n",
        "    def inner_function():\n",
        "        a = 30\n",
        "        print('a =', a)\n",
        "\n",
        "    inner_function()\n",
        "    print('a =', a)\n",
        "\n",
        "\n",
        "a = 10\n",
        "outer_function()\n",
        "print('a =', a)"
      ],
      "execution_count": null,
      "outputs": [
        {
          "output_type": "stream",
          "name": "stdout",
          "text": [
            "a = 30\n",
            "a = 20\n",
            "a = 10\n"
          ]
        }
      ]
    },
    {
      "cell_type": "code",
      "metadata": {
        "colab": {
          "base_uri": "https://localhost:8080/"
        },
        "id": "bZX2vIe1VEfv",
        "outputId": "bdf76676-d28c-43b1-9135-abbecfd8079c"
      },
      "source": [
        "a = 5\n",
        "b = 5.5\n",
        "c = \"Hello World\"\n",
        "d = 1 + 3j\n",
        "e = [1, \"hi\", 55.4]\n",
        "f = (1, \"hi\", 55.4)\n",
        "print(type(a))\n",
        "print(type(b))\n",
        "print(type(c))\n",
        "print(type(d))\n",
        "print(type(e))\n",
        "print(type(f))\n",
        "print(c*2)"
      ],
      "execution_count": null,
      "outputs": [
        {
          "output_type": "stream",
          "name": "stdout",
          "text": [
            "<class 'int'>\n",
            "<class 'float'>\n",
            "<class 'str'>\n",
            "<class 'complex'>\n",
            "<class 'list'>\n",
            "<class 'tuple'>\n",
            "Hello WorldHello World\n"
          ]
        }
      ]
    },
    {
      "cell_type": "code",
      "metadata": {
        "colab": {
          "base_uri": "https://localhost:8080/"
        },
        "id": "-bwwov_JWQhB",
        "outputId": "55ddf33c-8278-4003-b98e-8d3d26c12cc7"
      },
      "source": [
        "#Dictionary\n",
        "dict = {1:\"Hello\", 2: \"Hi\", 3: \"Namaskar\", 4: \"Hola\", 5: \"Meharba\"}\n",
        "print(\"1st name is: \", dict[1])\n",
        "print(\"2nd name is: \", dict[2])\n",
        "print(\"3rd name is: \", dict[3])\n",
        "print(\"4th name is: \", dict[4])\n",
        "print(\"5th name is: \", dict[5])\n",
        "print(dict.keys())\n",
        "print(dict.values())"
      ],
      "execution_count": null,
      "outputs": [
        {
          "output_type": "stream",
          "name": "stdout",
          "text": [
            "1st name is:  Hello\n",
            "2nd name is:  Hi\n",
            "3rd name is:  Namaskar\n",
            "4th name is:  Hola\n",
            "5th name is:  Meharba\n",
            "dict_keys([1, 2, 3, 4, 5])\n",
            "dict_values(['Hello', 'Hi', 'Namaskar', 'Hola', 'Meharba'])\n"
          ]
        }
      ]
    },
    {
      "cell_type": "code",
      "metadata": {
        "colab": {
          "base_uri": "https://localhost:8080/"
        },
        "id": "DBtSqqnDb2gS",
        "outputId": "9836d787-461e-442e-e279-21f8a2b0091a"
      },
      "source": [
        "#Set\n",
        "set1 = {\"hello\", 1, 11.5, \"namaskar\"}\n",
        "print(set1)\n",
        "set1.add(786)\n",
        "set1.remove(\"hello\")\n",
        "print(set1)"
      ],
      "execution_count": null,
      "outputs": [
        {
          "output_type": "stream",
          "name": "stdout",
          "text": [
            "{1, 'hello', 11.5, 'namaskar'}\n",
            "{1, 11.5, 786, 'namaskar'}\n"
          ]
        }
      ]
    },
    {
      "cell_type": "code",
      "metadata": {
        "colab": {
          "base_uri": "https://localhost:8080/"
        },
        "id": "i4A0WrrtevZ9",
        "outputId": "d25b48bb-07b2-4939-f8b5-3f2e2d5cbbdc"
      },
      "source": [
        "num_int = 500\n",
        "num_str = \"390\"\n",
        "\n",
        "print(\"Data type of num_int:\",type(num_int))\n",
        "print(\"Data type of num_str before Type Casting:\",type(num_str))\n",
        "\n",
        "num_str = int(num_str)\n",
        "print(\"Data type of num_str after Type Casting:\",type(num_str))\n",
        "\n",
        "num_sum = num_int + num_str\n",
        "\n",
        "print(\"Sum of num_int and num_str:\",num_sum)\n",
        "print(\"Data type of the sum:\",type(num_sum))"
      ],
      "execution_count": null,
      "outputs": [
        {
          "output_type": "stream",
          "name": "stdout",
          "text": [
            "Data type of num_int: <class 'int'>\n",
            "Data type of num_str before Type Casting: <class 'str'>\n",
            "Data type of num_str after Type Casting: <class 'int'>\n",
            "Sum of num_int and num_str: 890\n",
            "Data type of the sum: <class 'int'>\n"
          ]
        }
      ]
    },
    {
      "cell_type": "code",
      "metadata": {
        "colab": {
          "base_uri": "https://localhost:8080/"
        },
        "id": "FLqBOutwfLz4",
        "outputId": "5d2384f9-067d-4211-e270-a38269cbc69e"
      },
      "source": [
        "a = 10\n",
        "b = 20\n",
        "print(f\"a + b is : {a+b}\")\n",
        "print(\"a > b is :\",a>b)\n",
        "m = True\n",
        "n = False\n",
        "print(\"m and n is: \", m and n)\n",
        "print(\"m not is: \", not m)"
      ],
      "execution_count": null,
      "outputs": [
        {
          "output_type": "stream",
          "name": "stdout",
          "text": [
            "a + b is : 30\n",
            "a > b is : False\n",
            "m and n is:  False\n",
            "m not is:  False\n"
          ]
        }
      ]
    },
    {
      "cell_type": "code",
      "metadata": {
        "colab": {
          "base_uri": "https://localhost:8080/"
        },
        "id": "QLS2Y8_egNct",
        "outputId": "0580f10b-e2f0-4da4-ae21-ffc7807ad8f4"
      },
      "source": [
        "print(a & b, a ^ b, a>>4, b <<1)\n",
        "print(a is b)"
      ],
      "execution_count": null,
      "outputs": [
        {
          "output_type": "stream",
          "name": "stdout",
          "text": [
            "0 30 0 40\n",
            "False\n"
          ]
        }
      ]
    },
    {
      "cell_type": "code",
      "metadata": {
        "colab": {
          "base_uri": "https://localhost:8080/"
        },
        "id": "K6gj0hzig8uv",
        "outputId": "4404a8a2-b6d1-4a5d-e8f2-98a6ef59425f"
      },
      "source": [
        "x = 'Hello world'\n",
        "y = {1:'Hello',2:'Namaste'}\n",
        "\n",
        "\n",
        "print('e' in x)\n",
        "print('Hello' not in x)\n",
        "print(1 in y)\n",
        "print('Namaste' in y)"
      ],
      "execution_count": null,
      "outputs": [
        {
          "output_type": "stream",
          "name": "stdout",
          "text": [
            "True\n",
            "False\n",
            "True\n",
            "False\n"
          ]
        }
      ]
    },
    {
      "cell_type": "code",
      "metadata": {
        "colab": {
          "base_uri": "https://localhost:8080/"
        },
        "id": "WSdovSZYigP7",
        "outputId": "8acb4cf6-2a7b-4850-c910-2c63835bc0ba"
      },
      "source": [
        "u = int(input())\n",
        "if u % 2 == 0:\n",
        "  print(\" u is divisible by 2\")\n",
        "elif u %  3 == 0:\n",
        "  print(\"u is divisible by 3\")\n",
        "elif u % 5 == 0:\n",
        "  print(\"u is divisible by 5\")\n",
        "else:\n",
        "  print(\"u is not divisible by 2, 3, 5\")"
      ],
      "execution_count": null,
      "outputs": [
        {
          "output_type": "stream",
          "name": "stdout",
          "text": [
            "97\n",
            "u is not divisible by 2, 3, 5\n"
          ]
        }
      ]
    },
    {
      "cell_type": "code",
      "metadata": {
        "colab": {
          "base_uri": "https://localhost:8080/"
        },
        "id": "inEUKuHEjtDC",
        "outputId": "5453bdc4-56f0-445c-f624-b97f42eb7616"
      },
      "source": [
        "u = int(input())\n",
        "if u % 2 == 0:\n",
        "  if u % 3 == 0:\n",
        "    print(\"u is divisible by both 2 and 3\")\n",
        "  else:\n",
        "    print(\" u is divisible by 2\")\n",
        "elif u %  3 == 0:\n",
        "  print(\"u is divisible by 3\")\n",
        "elif u % 5 == 0:\n",
        "  print(\"u is divisible by 5\")\n",
        "else:\n",
        "  print(\"u is not divisible by 2, 3, 5\")"
      ],
      "execution_count": null,
      "outputs": [
        {
          "output_type": "stream",
          "name": "stdout",
          "text": [
            "6\n",
            "u is divisible by both 2 and 3\n"
          ]
        }
      ]
    },
    {
      "cell_type": "code",
      "metadata": {
        "colab": {
          "base_uri": "https://localhost:8080/"
        },
        "id": "oqFvmISoj_VH",
        "outputId": "5a6247cf-5056-49b9-de93-7d714f811033"
      },
      "source": [
        "list = [10, 20 , 30, 40, 50]\n",
        "sum = 0\n",
        "for i in range(0, 5):\n",
        "  sum = sum + list[i]\n",
        "print(\"Sum is: \",sum)"
      ],
      "execution_count": null,
      "outputs": [
        {
          "output_type": "stream",
          "name": "stdout",
          "text": [
            "Sum is:  150\n"
          ]
        }
      ]
    },
    {
      "cell_type": "code",
      "metadata": {
        "colab": {
          "base_uri": "https://localhost:8080/"
        },
        "id": "5PyaQ_XNkYoJ",
        "outputId": "30755a1d-3cff-4200-a27b-f72a7e956de6"
      },
      "source": [
        "list = [10, 20 , 30, 40, 50]\n",
        "sum = 0\n",
        "for i in range(0, 5):\n",
        "  if list[i] % 3 == 0:\n",
        "    sum = sum - list[i]\n",
        "  else:\n",
        "    sum = sum + list[i]\n",
        "print(\"Sum is: \",sum)"
      ],
      "execution_count": null,
      "outputs": [
        {
          "output_type": "stream",
          "name": "stdout",
          "text": [
            "Sum is:  90\n"
          ]
        }
      ]
    },
    {
      "cell_type": "code",
      "metadata": {
        "colab": {
          "base_uri": "https://localhost:8080/"
        },
        "id": "MQilW7BrkuFq",
        "outputId": "4fc82586-f989-415a-aa57-a965741f3d6d"
      },
      "source": [
        "list = [10, 20 , 30, 40, 50]\n",
        "sum = 0\n",
        "i = 0\n",
        "while i < 5:\n",
        "  sum = sum + list[i]\n",
        "  i = i+1\n",
        "print(\"Sum is: \", sum)"
      ],
      "execution_count": null,
      "outputs": [
        {
          "output_type": "stream",
          "name": "stdout",
          "text": [
            "Sum is:  150\n"
          ]
        }
      ]
    }
  ]
}