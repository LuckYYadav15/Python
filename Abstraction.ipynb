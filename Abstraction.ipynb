{
  "nbformat": 4,
  "nbformat_minor": 0,
  "metadata": {
    "colab": {
      "name": "Untitled13.ipynb",
      "provenance": []
    },
    "kernelspec": {
      "name": "python3",
      "display_name": "Python 3"
    },
    "language_info": {
      "name": "python"
    }
  },
  "cells": [
    {
      "cell_type": "code",
      "execution_count": null,
      "metadata": {
        "colab": {
          "base_uri": "https://localhost:8080/"
        },
        "id": "OO13r3cFsMcC",
        "outputId": "1ce70ed6-074c-4d98-de1f-da5d361c5581"
      },
      "outputs": [
        {
          "output_type": "stream",
          "name": "stdout",
          "text": [
            "method called from Parent\n",
            "Method called from Child 1 responsibility\n",
            "method called from Parent\n",
            "Method called from Child 2 responsibility\n"
          ]
        }
      ],
      "source": [
        "from abc import ABC, abstractmethod \n",
        "class Parent(ABC):            #common functionality \n",
        "       def common(self): \n",
        "          print('method called from Parent') \n",
        "       @abstractmethod \n",
        "       def responsibility(self): \n",
        "          pass \n",
        "class  Child1(Parent): \n",
        "       def responsibility (self): \n",
        "          print( 'Method called from Child 1 responsibility')\n",
        "class Child2(Parent): \n",
        "       def responsibility (self): \n",
        "          print( 'Method called from Child 2 responsibility')\n",
        "# object of Child1 class \n",
        "obj = Child1() \n",
        "obj.common() \n",
        "obj.responsibility()       \n",
        "\n",
        "# object of Child2 class \n",
        "obj = Child2() \n",
        "obj.common() \n",
        "obj.responsibility()"
      ]
    },
    {
      "cell_type": "code",
      "source": [
        "from abc import ABC, abstractmethod\n",
        "\n",
        "class Absclass(ABC):\n",
        "\n",
        "    def print(self,x):\n",
        "\n",
        "        print(\"“Passed value: “\", x)\n",
        "\n",
        "    @abstractmethod\n",
        "\n",
        "    def task(self):\n",
        "\n",
        "        print(\"“We are inside Absclass task”\")\n",
        "\n",
        " \n",
        "\n",
        "class test_class(Absclass):\n",
        "\n",
        "    def task(self):\n",
        "\n",
        "        print(\"“We are inside test_class task”\")\n",
        "\n",
        " \n",
        "\n",
        "class example_class(Absclass):\n",
        "\n",
        "    def task(self):\n",
        "\n",
        "        print(\"“We are inside example_class task”\")\n",
        "\n",
        " \n",
        "\n",
        "#object of test_class created\n",
        "\n",
        "test_obj = test_class()\n",
        "\n",
        "test_obj.task()\n",
        "\n",
        "test_obj.print(100)\n",
        "\n",
        " \n",
        "\n",
        "#object of example_class created\n",
        "\n",
        "example_obj = example_class()\n",
        "\n",
        "example_obj.task()\n",
        "\n",
        "example_obj.print(200)\n",
        "\n",
        " \n",
        "\n",
        "print(\"test_obj is instance of Absclass? \", isinstance(test_obj, Absclass))\n",
        "\n",
        "print(\"“example_obj is instance of Absclass? “\", isinstance(example_obj, Absclass))"
      ],
      "metadata": {
        "colab": {
          "base_uri": "https://localhost:8080/"
        },
        "id": "jT6_Y0EAshox",
        "outputId": "bf629403-fda6-49a8-ce9f-69ca57bfc0f4"
      },
      "execution_count": null,
      "outputs": [
        {
          "output_type": "stream",
          "name": "stdout",
          "text": [
            "“We are inside test_class task”\n",
            "“Passed value: “ 100\n",
            "“We are inside example_class task”\n",
            "“Passed value: “ 200\n",
            "test_obj is instance of Absclass?  True\n",
            "“example_obj is instance of Absclass? “ True\n"
          ]
        }
      ]
    },
    {
      "cell_type": "code",
      "source": [
        "from abc import ABC, abstractmethod\n",
        "class Parent(ABC):  \n",
        "     def __init__(self, name):    \n",
        "          self.name = name;    \n",
        "          super().__init__() \n",
        "     def common(self):         #common functionality  \n",
        "          print('method called from Parent', self.name)  \n",
        "     @abstractmethod  \n",
        "     def vary(self):    \n",
        "          pass\n",
        "class Child(Parent):  \n",
        "     def vary(self):    \n",
        "          self.name = 'ABC' \n",
        "          print('uncle name is ', self.name)           # trying to instantiate abstract class\n",
        "obj = Parent('Uncle')\n",
        "obj.common()\n",
        "obj.vary()"
      ],
      "metadata": {
        "colab": {
          "base_uri": "https://localhost:8080/",
          "height": 241
        },
        "id": "tMFgNzDitv8n",
        "outputId": "41ad0ef5-a65b-4c4f-bdb6-5e12314711bc"
      },
      "execution_count": null,
      "outputs": [
        {
          "output_type": "error",
          "ename": "TypeError",
          "evalue": "ignored",
          "traceback": [
            "\u001b[0;31m---------------------------------------------------------------------------\u001b[0m",
            "\u001b[0;31mTypeError\u001b[0m                                 Traceback (most recent call last)",
            "\u001b[0;32m<ipython-input-9-b7430400883a>\u001b[0m in \u001b[0;36m<module>\u001b[0;34m()\u001b[0m\n\u001b[1;32m     12\u001b[0m        \u001b[0;32mdef\u001b[0m  \u001b[0mresponsibility\u001b[0m\u001b[0;34m(\u001b[0m\u001b[0mself\u001b[0m\u001b[0;34m)\u001b[0m\u001b[0;34m:\u001b[0m\u001b[0;34m\u001b[0m\u001b[0;34m\u001b[0m\u001b[0m\n\u001b[1;32m     13\u001b[0m             \u001b[0mprint\u001b[0m\u001b[0;34m(\u001b[0m\u001b[0;34m'method of Child'\u001b[0m\u001b[0;34m)\u001b[0m \u001b[0;31m# object of Child class\u001b[0m\u001b[0;34m\u001b[0m\u001b[0;34m\u001b[0m\u001b[0m\n\u001b[0;32m---> 14\u001b[0;31m \u001b[0mobj\u001b[0m \u001b[0;34m=\u001b[0m \u001b[0mChild\u001b[0m\u001b[0;34m(\u001b[0m\u001b[0;34m)\u001b[0m\u001b[0;34m\u001b[0m\u001b[0;34m\u001b[0m\u001b[0m\n\u001b[0m\u001b[1;32m     15\u001b[0m \u001b[0mobj\u001b[0m\u001b[0;34m.\u001b[0m\u001b[0mcommon\u001b[0m\u001b[0;34m(\u001b[0m\u001b[0;34m)\u001b[0m\u001b[0;34m\u001b[0m\u001b[0;34m\u001b[0m\u001b[0m\n\u001b[1;32m     16\u001b[0m \u001b[0mobj\u001b[0m\u001b[0;34m.\u001b[0m\u001b[0mvary\u001b[0m\u001b[0;34m(\u001b[0m\u001b[0;34m)\u001b[0m\u001b[0;34m\u001b[0m\u001b[0;34m\u001b[0m\u001b[0m\n",
            "\u001b[0;31mTypeError\u001b[0m: Can't instantiate abstract class Child with abstract methods test"
          ]
        }
      ]
    },
    {
      "cell_type": "code",
      "source": [
        "class temp:\n",
        "  def __init__(self, arr):\n",
        "    self.arr = arr;\n",
        "  def getMin(arr, n):\n",
        "    if(n==1):\n",
        "        return arr[0]\n",
        "    # If there is single element, return it.\n",
        "    # Else return minimum of first element\n",
        "    # and minimum of remaining array.\n",
        "    else:\n",
        "        return min(getMin(arr[1:], n-1), arr[0])\n",
        " def getMax(arr, n):\n",
        "    if(n==1):\n",
        "        return arr[0]\n",
        "    # If there is single element, return it.\n",
        "    # Else return maximum of first element\n",
        "    # and maximum of remaining array.\n",
        "    else:\n",
        "        return max(getMax(arr[1:], n-1), arr[0])\n",
        "\n",
        "arr[] = { 12, 1234, 45, 67, 1 };\n",
        "t = temp(arr);\n",
        "t.max()"
      ],
      "metadata": {
        "colab": {
          "base_uri": "https://localhost:8080/",
          "height": 133
        },
        "id": "4a22XnwayGhn",
        "outputId": "3266bda0-0a0e-4345-aa98-ccc7b146daf6"
      },
      "execution_count": null,
      "outputs": [
        {
          "output_type": "error",
          "ename": "IndentationError",
          "evalue": "ignored",
          "traceback": [
            "\u001b[0;36m  File \u001b[0;32m\"<ipython-input-12-5081bf81193d>\"\u001b[0;36m, line \u001b[0;32m12\u001b[0m\n\u001b[0;31m    def getMax(arr, n):\u001b[0m\n\u001b[0m                       ^\u001b[0m\n\u001b[0;31mIndentationError\u001b[0m\u001b[0;31m:\u001b[0m unindent does not match any outer indentation level\n"
          ]
        }
      ]
    },
    {
      "cell_type": "code",
      "source": [
        "def getMin(arr, n):\n",
        "    if(n==1):\n",
        "        return arr[0]\n",
        "    # If there is single element, return it.\n",
        "    # Else return minimum of first element\n",
        "    # and minimum of remaining array.\n",
        "    else:\n",
        "        return min(getMin(arr[1:], n-1), arr[0])\n",
        "def getMax(arr, n):\n",
        "    if(n==1):\n",
        "        return arr[0]\n",
        "    # If there is single element, return it.\n",
        "    # Else return maximum of first element\n",
        "    # and maximum of remaining array.\n",
        "    else:\n",
        "        return max(getMax(arr[1:], n-1), arr[0])\n",
        " \n",
        "# Driver code\n",
        "arr = [12, 1234, 45, 67, 1]\n",
        "n = len(arr)\n",
        "print(\"Minimum element of array: \",\n",
        "                   getMin(arr, n));\n",
        "print(\"Maximum element of array: \",\n",
        "                   getMax(arr, n));"
      ],
      "metadata": {
        "colab": {
          "base_uri": "https://localhost:8080/"
        },
        "id": "C63w196Wy5jz",
        "outputId": "6c977579-62a1-4136-e2da-58e3f6341a5c"
      },
      "execution_count": null,
      "outputs": [
        {
          "output_type": "stream",
          "name": "stdout",
          "text": [
            "Minimum element of array:  1\n",
            "Maximum element of array:  1234\n"
          ]
        }
      ]
    }
  ]
}