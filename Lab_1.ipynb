{
  "nbformat": 4,
  "nbformat_minor": 0,
  "metadata": {
    "colab": {
      "name": "Untitled0.ipynb",
      "provenance": [],
      "mount_file_id": "1L1WNKDXAmbUPQD_Omg9i47v4wLhQkzfd",
      "authorship_tag": "ABX9TyMuwb3EflfSu77JfVpNIYT6",
      "include_colab_link": true
    },
    "kernelspec": {
      "name": "python3",
      "display_name": "Python 3"
    },
    "language_info": {
      "name": "python"
    }
  },
  "cells": [
    {
      "cell_type": "markdown",
      "metadata": {
        "id": "view-in-github",
        "colab_type": "text"
      },
      "source": [
        "<a href=\"https://colab.research.google.com/github/LuckYYadav15/Python/blob/main/Lab_1.ipynb\" target=\"_parent\"><img src=\"https://colab.research.google.com/assets/colab-badge.svg\" alt=\"Open In Colab\"/></a>"
      ]
    },
    {
      "cell_type": "code",
      "metadata": {
        "colab": {
          "base_uri": "https://localhost:8080/"
        },
        "id": "EBVidqG0cy1y",
        "outputId": "89c570fa-7f59-47c4-a092-5a915838dc1a"
      },
      "source": [
        "a = 10\n",
        "print(a)"
      ],
      "execution_count": 1,
      "outputs": [
        {
          "output_type": "stream",
          "text": [
            "10\n"
          ],
          "name": "stdout"
        }
      ]
    },
    {
      "cell_type": "code",
      "metadata": {
        "colab": {
          "base_uri": "https://localhost:8080/"
        },
        "id": "OOOtK2kJdzZx",
        "outputId": "21014351-13e6-4a83-eff8-c985001e121e"
      },
      "source": [
        "b = \"hello\"\n",
        "print(b)"
      ],
      "execution_count": 2,
      "outputs": [
        {
          "output_type": "stream",
          "text": [
            "hello\n"
          ],
          "name": "stdout"
        }
      ]
    },
    {
      "cell_type": "code",
      "metadata": {
        "colab": {
          "base_uri": "https://localhost:8080/"
        },
        "id": "vaFzE_JjkbSU",
        "outputId": "3eec0b3e-2fbb-44c4-eb8d-1f932ca7a083"
      },
      "source": [
        "print(type(a))"
      ],
      "execution_count": 3,
      "outputs": [
        {
          "output_type": "stream",
          "text": [
            "<class 'int'>\n"
          ],
          "name": "stdout"
        }
      ]
    },
    {
      "cell_type": "code",
      "metadata": {
        "colab": {
          "base_uri": "https://localhost:8080/"
        },
        "id": "EGWX9GXQkqvm",
        "outputId": "0c7abafe-1e81-46cb-af75-45fe36dd4e5b"
      },
      "source": [
        "x = True\n",
        "print(type(x))"
      ],
      "execution_count": 1,
      "outputs": [
        {
          "output_type": "stream",
          "text": [
            "<class 'bool'>\n"
          ],
          "name": "stdout"
        }
      ]
    },
    {
      "cell_type": "code",
      "metadata": {
        "colab": {
          "base_uri": "https://localhost:8080/"
        },
        "id": "qgS1psYXlcGc",
        "outputId": "a67c706b-751a-4ede-e653-6d6528f65566"
      },
      "source": [
        "e = ['a', 3, 8.5]\n",
        "print(e)"
      ],
      "execution_count": 3,
      "outputs": [
        {
          "output_type": "stream",
          "text": [
            "['a', 3, 8.5]\n"
          ],
          "name": "stdout"
        }
      ]
    },
    {
      "cell_type": "code",
      "metadata": {
        "colab": {
          "base_uri": "https://localhost:8080/"
        },
        "id": "lh4AusM2oDDE",
        "outputId": "bf0fd846-c7a5-442d-aa84-d7bd7fdd52e4"
      },
      "source": [
        "f = (1, 2, 3, 4)\n",
        "print(type(f))"
      ],
      "execution_count": 5,
      "outputs": [
        {
          "output_type": "stream",
          "text": [
            "<class 'tuple'>\n"
          ],
          "name": "stdout"
        }
      ]
    },
    {
      "cell_type": "code",
      "metadata": {
        "colab": {
          "base_uri": "https://localhost:8080/"
        },
        "id": "RXJ0VBuCoKFW",
        "outputId": "dea14fa0-7b8c-4bbf-cb0b-dc32ea6159aa"
      },
      "source": [
        "g = {1, 2, 3}\n",
        "print(type(g))"
      ],
      "execution_count": 6,
      "outputs": [
        {
          "output_type": "stream",
          "text": [
            "<class 'set'>\n"
          ],
          "name": "stdout"
        }
      ]
    },
    {
      "cell_type": "code",
      "metadata": {
        "colab": {
          "base_uri": "https://localhost:8080/"
        },
        "id": "8-QesWJkoPYg",
        "outputId": "61752f37-60f3-482f-eee6-0911676b0dd7"
      },
      "source": [
        "h = {\n",
        "    \"alpha\" : \"5\",\n",
        "     \"beta\" : \"6\",\n",
        "     \"gamma\" : \"9\",\n",
        "}\n",
        "print(h)\n",
        "print(type(h))"
      ],
      "execution_count": 10,
      "outputs": [
        {
          "output_type": "stream",
          "text": [
            "{'alpha': '5', 'beta': '6', 'gamma': '9'}\n",
            "<class 'dict'>\n"
          ],
          "name": "stdout"
        }
      ]
    },
    {
      "cell_type": "code",
      "metadata": {
        "colab": {
          "base_uri": "https://localhost:8080/"
        },
        "id": "KgXnTgq0ox8W",
        "outputId": "bce563af-1965-42fc-ba5f-2f07378b2766"
      },
      "source": [
        "a = 'India'\n",
        "b = \"IIIT's\"\n",
        "print(b)"
      ],
      "execution_count": 13,
      "outputs": [
        {
          "output_type": "stream",
          "text": [
            "IIIT's\n"
          ],
          "name": "stdout"
        }
      ]
    },
    {
      "cell_type": "code",
      "metadata": {
        "colab": {
          "base_uri": "https://localhost:8080/"
        },
        "id": "80UVP4Y-pVE5",
        "outputId": "1dbbba3d-d368-4f85-cfe1-a3ef60329d64"
      },
      "source": [
        "j = '\"laxman\" is a good person '\n",
        "print(j)"
      ],
      "execution_count": 15,
      "outputs": [
        {
          "output_type": "stream",
          "text": [
            "\"laxman\" is a good person \n"
          ],
          "name": "stdout"
        }
      ]
    },
    {
      "cell_type": "code",
      "metadata": {
        "colab": {
          "base_uri": "https://localhost:8080/"
        },
        "id": "HW7CMfClqMSC",
        "outputId": "482ffe48-6fc7-4835-87d1-41f2dc6a6bbe"
      },
      "source": [
        "print(len(j))"
      ],
      "execution_count": 16,
      "outputs": [
        {
          "output_type": "stream",
          "text": [
            "26\n"
          ],
          "name": "stdout"
        }
      ]
    },
    {
      "cell_type": "code",
      "metadata": {
        "colab": {
          "base_uri": "https://localhost:8080/"
        },
        "id": "KuSqEmxMqcRo",
        "outputId": "95064a5e-deee-4825-d7b2-0186b8c2c3f0"
      },
      "source": [
        "for x in j:\n",
        "  print(x)"
      ],
      "execution_count": 17,
      "outputs": [
        {
          "output_type": "stream",
          "text": [
            "\"\n",
            "l\n",
            "a\n",
            "x\n",
            "m\n",
            "a\n",
            "n\n",
            "\"\n",
            " \n",
            "i\n",
            "s\n",
            " \n",
            "a\n",
            " \n",
            "g\n",
            "o\n",
            "o\n",
            "d\n",
            " \n",
            "p\n",
            "e\n",
            "r\n",
            "s\n",
            "o\n",
            "n\n",
            " \n"
          ],
          "name": "stdout"
        }
      ]
    },
    {
      "cell_type": "code",
      "metadata": {
        "colab": {
          "base_uri": "https://localhost:8080/"
        },
        "id": "ldjXNrynqh1o",
        "outputId": "20aa1034-9e37-4116-89fa-8126e595cb52"
      },
      "source": [
        "for x in j[0:4]:\n",
        "  print(x)"
      ],
      "execution_count": 20,
      "outputs": [
        {
          "output_type": "stream",
          "text": [
            "\"\n",
            "l\n",
            "a\n",
            "x\n"
          ],
          "name": "stdout"
        }
      ]
    }
  ]
}