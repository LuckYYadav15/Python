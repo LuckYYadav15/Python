{
  "nbformat": 4,
  "nbformat_minor": 0,
  "metadata": {
    "colab": {
      "name": "Untitled15.ipynb",
      "provenance": []
    },
    "kernelspec": {
      "name": "python3",
      "display_name": "Python 3"
    },
    "language_info": {
      "name": "python"
    }
  },
  "cells": [
    {
      "cell_type": "code",
      "metadata": {
        "colab": {
          "base_uri": "https://localhost:8080/"
        },
        "id": "zf8Iy5KFAAHq",
        "outputId": "abb2f1fd-19f2-401c-cf3e-b3862aa941c2"
      },
      "source": [
        "#Question 1\n",
        "class Shape:\n",
        "  def __init__(self):\n",
        "    self.variable = 0\n",
        "\n",
        "class Circle(Shape):\n",
        "  def area(self, variable):\n",
        "    self.variable = variable\n",
        "    print(f\"Area of Circle is: {3.14*self.variable*self.variable}\")\n",
        "\n",
        "class Square(Shape):\n",
        "  def area(self,variable):\n",
        "    self.variable = variable\n",
        "    print(f\"Area of Square is: {self.variable * self.variable}\")\n",
        "\n",
        "class Rectangle(Shape):\n",
        "  def area(self,variable, variable2):\n",
        "    self.variable = variable\n",
        "    self.variable2 = variable2\n",
        "    print(f\"Area of Recangle is: {self.variable * self.variable2}\")\n",
        "\n",
        "c1 = Circle()\n",
        "c1.area(7)\n",
        "\n",
        "s1 = Square()\n",
        "s1.area(4)\n",
        "\n",
        "r1 = Rectangle()\n",
        "r1.area(4,5)"
      ],
      "execution_count": null,
      "outputs": [
        {
          "output_type": "stream",
          "name": "stdout",
          "text": [
            "Area of Circle is: 153.86\n",
            "Area of Square is: 16\n",
            "Area of Recangle is: 20\n"
          ]
        }
      ]
    },
    {
      "cell_type": "code",
      "metadata": {
        "colab": {
          "base_uri": "https://localhost:8080/"
        },
        "id": "PUp4fslzEDEZ",
        "outputId": "e10f7b69-d17a-49f3-f589-44cdab73abba"
      },
      "source": [
        "#Question-2\n",
        "class Travel:\n",
        "  def __init__(self):\n",
        "    self._nump = 15\n",
        "    self.distance = 1600\n",
        "    mode = \"1. Train \\n 2. Bus\"\n",
        "\n",
        "class Train(Travel):\n",
        "  def __init__(self):\n",
        "    Travel.__init__(self)\n",
        "    price = 60\n",
        "    print(f\"Total travel cost by Train is {price * self._nump * self.distance} rupees.\")\n",
        "\n",
        "class Bus(Travel):\n",
        "  def __init__(self):\n",
        "    Travel.__init__(self)\n",
        "    price = 100\n",
        "    print(f\"Total travel cost by Bus is {price * self._nump * self.distance} rupees.\")\n",
        "\n",
        "p1 = Train()\n",
        "p2 = Bus()"
      ],
      "execution_count": null,
      "outputs": [
        {
          "output_type": "stream",
          "name": "stdout",
          "text": [
            "Total travel cost by Train is 1440000 rupees.\n",
            "Total travel cost by Bus is 2400000 rupees.\n"
          ]
        }
      ]
    },
    {
      "cell_type": "code",
      "metadata": {
        "colab": {
          "base_uri": "https://localhost:8080/"
        },
        "id": "WAgl_Kp6JNaE",
        "outputId": "7ee3bbf1-5189-4cd6-a21a-857e9acb1cdf"
      },
      "source": [
        "#Question-3\n",
        "class Car:\n",
        "  def __init__(self, modelnum):\n",
        "    self.modelnum = modelnum\n",
        "\n",
        "  def __add__(self, second):\n",
        "    t = self.modelnum\n",
        "    self.modelnum = second.modelnum\n",
        "    second.modelnum = t\n",
        "    \n",
        "car1 = Car(1101)\n",
        "car2 = Car(1102)\n",
        "car1 + car2\n",
        "print(f\"Model number of car1 is: {car1.modelnum}\")\n",
        "print(f\"Model number of car2 is: {car2.modelnum}\")"
      ],
      "execution_count": null,
      "outputs": [
        {
          "output_type": "stream",
          "name": "stdout",
          "text": [
            "Model number of car1 is: 1102\n",
            "Model number of car2 is: 1101\n"
          ]
        }
      ]
    }
  ]
}